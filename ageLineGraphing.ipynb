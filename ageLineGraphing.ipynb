{
 "cells": [
  {
   "cell_type": "code",
   "execution_count": 60,
   "metadata": {},
   "outputs": [],
   "source": [
    "import matplotlib.pyplot as plt\n",
    "import pandas as pd\n",
    "import gzip"
   ]
  },
  {
   "cell_type": "code",
   "execution_count": 61,
   "metadata": {},
   "outputs": [
    {
     "data": {
      "text/html": [
       "<div>\n",
       "<style scoped>\n",
       "    .dataframe tbody tr th:only-of-type {\n",
       "        vertical-align: middle;\n",
       "    }\n",
       "\n",
       "    .dataframe tbody tr th {\n",
       "        vertical-align: top;\n",
       "    }\n",
       "\n",
       "    .dataframe thead th {\n",
       "        text-align: right;\n",
       "    }\n",
       "</style>\n",
       "<table border=\"1\" class=\"dataframe\">\n",
       "  <thead>\n",
       "    <tr style=\"text-align: right;\">\n",
       "      <th></th>\n",
       "      <th>incident_id</th>\n",
       "      <th>date</th>\n",
       "      <th>state</th>\n",
       "      <th>city_or_county</th>\n",
       "      <th>address</th>\n",
       "      <th>n_killed</th>\n",
       "      <th>n_injured</th>\n",
       "      <th>sum n_killed&amp;n_injured</th>\n",
       "      <th>latitude</th>\n",
       "      <th>longitude</th>\n",
       "      <th>...</th>\n",
       "      <th>participant_age_group</th>\n",
       "      <th>participant_gender</th>\n",
       "      <th>participant_name</th>\n",
       "      <th>participant_status</th>\n",
       "      <th>participant_type</th>\n",
       "      <th># of Victims</th>\n",
       "      <th># of Suspects</th>\n",
       "      <th>Avg Age of Victims</th>\n",
       "      <th>Avg Age of Suspects</th>\n",
       "      <th>year</th>\n",
       "    </tr>\n",
       "  </thead>\n",
       "  <tbody>\n",
       "    <tr>\n",
       "      <th>0</th>\n",
       "      <td>854799</td>\n",
       "      <td>2014-01-01</td>\n",
       "      <td>Florida</td>\n",
       "      <td>Milton</td>\n",
       "      <td>NaN</td>\n",
       "      <td>0</td>\n",
       "      <td>0</td>\n",
       "      <td>0</td>\n",
       "      <td>30.6884</td>\n",
       "      <td>-87.0480</td>\n",
       "      <td>...</td>\n",
       "      <td>0::Adult 18+||1::Adult 18+</td>\n",
       "      <td>0::Male||1::Male</td>\n",
       "      <td>0::Silvano Zaragoza-Ambriz||1::Kyle James Corbi</td>\n",
       "      <td>0::Unharmed, Arrested||1::Unharmed, Arrested</td>\n",
       "      <td>0::Subject-Suspect||1::Subject-Suspect</td>\n",
       "      <td>0</td>\n",
       "      <td>2</td>\n",
       "      <td>NaN</td>\n",
       "      <td>31.0</td>\n",
       "      <td>2014</td>\n",
       "    </tr>\n",
       "    <tr>\n",
       "      <th>1</th>\n",
       "      <td>98134</td>\n",
       "      <td>2014-01-01</td>\n",
       "      <td>Louisiana</td>\n",
       "      <td>Marrero</td>\n",
       "      <td>6100 block of Ray St</td>\n",
       "      <td>1</td>\n",
       "      <td>0</td>\n",
       "      <td>1</td>\n",
       "      <td>29.8862</td>\n",
       "      <td>-90.1087</td>\n",
       "      <td>...</td>\n",
       "      <td>0::Adult 18+||1::Adult 18+</td>\n",
       "      <td>0::Male||1::Male</td>\n",
       "      <td>0::Sgt. Joseph Anderson||1::Darwin Bethune</td>\n",
       "      <td>0::Killed||1::Unharmed</td>\n",
       "      <td>0::Victim||1::Subject-Suspect</td>\n",
       "      <td>1</td>\n",
       "      <td>1</td>\n",
       "      <td>31.0</td>\n",
       "      <td>24.0</td>\n",
       "      <td>2014</td>\n",
       "    </tr>\n",
       "    <tr>\n",
       "      <th>2</th>\n",
       "      <td>92563</td>\n",
       "      <td>2014-01-01</td>\n",
       "      <td>Mississippi</td>\n",
       "      <td>Bogue Chitto</td>\n",
       "      <td>1347 Brumfield Rd SW</td>\n",
       "      <td>1</td>\n",
       "      <td>0</td>\n",
       "      <td>1</td>\n",
       "      <td>31.3762</td>\n",
       "      <td>-90.5601</td>\n",
       "      <td>...</td>\n",
       "      <td>0::Child 0-11||1::Teen 12-17</td>\n",
       "      <td>0::Female||1::Male</td>\n",
       "      <td>0::Karlianna Celeste Brumfield</td>\n",
       "      <td>0::Killed||1::Unharmed</td>\n",
       "      <td>0::Victim||1::Subject-Suspect</td>\n",
       "      <td>1</td>\n",
       "      <td>1</td>\n",
       "      <td>6.0</td>\n",
       "      <td>13.0</td>\n",
       "      <td>2014</td>\n",
       "    </tr>\n",
       "    <tr>\n",
       "      <th>3</th>\n",
       "      <td>97976</td>\n",
       "      <td>2014-01-01</td>\n",
       "      <td>Hawaii</td>\n",
       "      <td>Lihue</td>\n",
       "      <td>NaN</td>\n",
       "      <td>1</td>\n",
       "      <td>0</td>\n",
       "      <td>1</td>\n",
       "      <td>21.9986</td>\n",
       "      <td>-159.3560</td>\n",
       "      <td>...</td>\n",
       "      <td>0::Adult 18+||1::Adult 18+</td>\n",
       "      <td>0::Male||1::Male</td>\n",
       "      <td>0::Amby Cruz||1::Giovani Corpuz</td>\n",
       "      <td>0::Killed||1::Unharmed</td>\n",
       "      <td>0::Victim||1::Subject-Suspect</td>\n",
       "      <td>1</td>\n",
       "      <td>1</td>\n",
       "      <td>88.0</td>\n",
       "      <td>41.0</td>\n",
       "      <td>2014</td>\n",
       "    </tr>\n",
       "    <tr>\n",
       "      <th>4</th>\n",
       "      <td>92117</td>\n",
       "      <td>2014-01-01</td>\n",
       "      <td>Kentucky</td>\n",
       "      <td>Cynthiana</td>\n",
       "      <td>NaN</td>\n",
       "      <td>0</td>\n",
       "      <td>1</td>\n",
       "      <td>1</td>\n",
       "      <td>38.4333</td>\n",
       "      <td>-84.3542</td>\n",
       "      <td>...</td>\n",
       "      <td>0::Adult 18+||1::Adult 18+</td>\n",
       "      <td>0::Male||1::Male</td>\n",
       "      <td>0::Dustin Mullins||1::Timothy Turner</td>\n",
       "      <td>0::Injured||1::Unharmed, Arrested</td>\n",
       "      <td>0::Victim||1::Subject-Suspect</td>\n",
       "      <td>1</td>\n",
       "      <td>1</td>\n",
       "      <td>NaN</td>\n",
       "      <td>NaN</td>\n",
       "      <td>2014</td>\n",
       "    </tr>\n",
       "  </tbody>\n",
       "</table>\n",
       "<p>5 rows × 25 columns</p>\n",
       "</div>"
      ],
      "text/plain": [
       "   incident_id        date        state city_or_county               address  \\\n",
       "0       854799  2014-01-01      Florida         Milton                   NaN   \n",
       "1        98134  2014-01-01    Louisiana        Marrero  6100 block of Ray St   \n",
       "2        92563  2014-01-01  Mississippi   Bogue Chitto  1347 Brumfield Rd SW   \n",
       "3        97976  2014-01-01       Hawaii          Lihue                   NaN   \n",
       "4        92117  2014-01-01     Kentucky      Cynthiana                   NaN   \n",
       "\n",
       "   n_killed  n_injured  sum n_killed&n_injured  latitude  longitude  ...   \\\n",
       "0         0          0                       0   30.6884   -87.0480  ...    \n",
       "1         1          0                       1   29.8862   -90.1087  ...    \n",
       "2         1          0                       1   31.3762   -90.5601  ...    \n",
       "3         1          0                       1   21.9986  -159.3560  ...    \n",
       "4         0          1                       1   38.4333   -84.3542  ...    \n",
       "\n",
       "          participant_age_group  participant_gender  \\\n",
       "0    0::Adult 18+||1::Adult 18+    0::Male||1::Male   \n",
       "1    0::Adult 18+||1::Adult 18+    0::Male||1::Male   \n",
       "2  0::Child 0-11||1::Teen 12-17  0::Female||1::Male   \n",
       "3    0::Adult 18+||1::Adult 18+    0::Male||1::Male   \n",
       "4    0::Adult 18+||1::Adult 18+    0::Male||1::Male   \n",
       "\n",
       "                                  participant_name  \\\n",
       "0  0::Silvano Zaragoza-Ambriz||1::Kyle James Corbi   \n",
       "1       0::Sgt. Joseph Anderson||1::Darwin Bethune   \n",
       "2                   0::Karlianna Celeste Brumfield   \n",
       "3                  0::Amby Cruz||1::Giovani Corpuz   \n",
       "4             0::Dustin Mullins||1::Timothy Turner   \n",
       "\n",
       "                             participant_status  \\\n",
       "0  0::Unharmed, Arrested||1::Unharmed, Arrested   \n",
       "1                        0::Killed||1::Unharmed   \n",
       "2                        0::Killed||1::Unharmed   \n",
       "3                        0::Killed||1::Unharmed   \n",
       "4             0::Injured||1::Unharmed, Arrested   \n",
       "\n",
       "                         participant_type # of Victims # of Suspects  \\\n",
       "0  0::Subject-Suspect||1::Subject-Suspect            0             2   \n",
       "1           0::Victim||1::Subject-Suspect            1             1   \n",
       "2           0::Victim||1::Subject-Suspect            1             1   \n",
       "3           0::Victim||1::Subject-Suspect            1             1   \n",
       "4           0::Victim||1::Subject-Suspect            1             1   \n",
       "\n",
       "  Avg Age of Victims Avg Age of Suspects  year  \n",
       "0                NaN                31.0  2014  \n",
       "1               31.0                24.0  2014  \n",
       "2                6.0                13.0  2014  \n",
       "3               88.0                41.0  2014  \n",
       "4                NaN                 NaN  2014  \n",
       "\n",
       "[5 rows x 25 columns]"
      ]
     },
     "execution_count": 61,
     "metadata": {},
     "output_type": "execute_result"
    }
   ],
   "source": [
    "# Plotting gender stuff\n",
    "df = pd.read_csv(gzip.open('data_cleaned/cleanedBigGun_age.csv.gz'))\n",
    "df.head()"
   ]
  },
  {
   "cell_type": "code",
   "execution_count": 62,
   "metadata": {},
   "outputs": [
    {
     "data": {
      "text/plain": [
       "Index(['incident_id', 'date', 'state', 'city_or_county', 'address', 'n_killed',\n",
       "       'n_injured', 'sum n_killed&n_injured', 'latitude', 'longitude',\n",
       "       'n_guns_involved', 'STATE', 'gun_type', 'incident_characteristics',\n",
       "       'participant_age', 'participant_age_group', 'participant_gender',\n",
       "       'participant_name', 'participant_status', 'participant_type',\n",
       "       '# of Victims', '# of Suspects', 'Avg Age of Victims',\n",
       "       'Avg Age of Suspects', 'year'],\n",
       "      dtype='object')"
      ]
     },
     "execution_count": 62,
     "metadata": {},
     "output_type": "execute_result"
    }
   ],
   "source": [
    "df.columns"
   ]
  },
  {
   "cell_type": "code",
   "execution_count": 63,
   "metadata": {},
   "outputs": [
    {
     "data": {
      "text/plain": [
       "year\n",
       "2014    31.252284\n",
       "2015    32.535835\n",
       "2016    31.919309\n",
       "2017    31.743507\n",
       "2018    32.377778\n",
       "Name: Avg Age of Victims, dtype: float64"
      ]
     },
     "execution_count": 63,
     "metadata": {},
     "output_type": "execute_result"
    }
   ],
   "source": [
    "ageNational = df.groupby('year').mean()['Avg Age of Victims']\n",
    "ageNational"
   ]
  },
  {
   "cell_type": "code",
   "execution_count": 64,
   "metadata": {},
   "outputs": [
    {
     "data": {
      "image/png": "[encoded data removed]",
      "text/plain": [
       "<matplotlib.figure.Figure at 0x1db83abf5c0>"
      ]
     },
     "metadata": {},
     "output_type": "display_data"
    }
   ],
   "source": [
    "ageNational.plot(kind = 'barh', figsize = (8, 8))\n",
    "plt.title('Average Age of Victims by Year (National)')\n",
    "plt.xlabel('Average Age of Victims')\n",
    "plt.ylabel('Year')\n",
    "plt.show()"
   ]
  },
  {
   "cell_type": "code",
   "execution_count": 65,
   "metadata": {},
   "outputs": [
    {
     "data": {
      "text/plain": [
       "array([ nan,  31.,   6.,  88.,  17.,  23.,  12.,  44.,  35.,  28.,  15.,\n",
       "        37.,  26.,  21.,  18.,  24.,  50.,  20.,  66.,  19.,  46.,  14.,\n",
       "        56.,  29.,  22.,  52.,   3.,  33.,  34.,  25.,  69.,  10.,  38.,\n",
       "        30.,  40.,  68.,  39.,  76.,  59.,  27.,   4.,  77.,  55.,  16.,\n",
       "        32.,  60.,  36.,  48.,  79.,  54.,  42.,  51.,  45.,  67.,  49.,\n",
       "        62.,   5.,  13.,   1.,  47.,  41.,  63.,  43.,   9.,   2.,  71.,\n",
       "         7.,  61.,  57.,   8.,  53.,  58.,  11.,  75.,  80.,  73.,  74.,\n",
       "        72.,  83.,  65.,  81.,  64.,  70.,  90.,   0.,  84.,  91.,  78.,\n",
       "        87.,  85.,  89.,  82.,  93.,  86.,  92.,  99., 100.])"
      ]
     },
     "execution_count": 65,
     "metadata": {},
     "output_type": "execute_result"
    }
   ],
   "source": [
    "df['Avg Age of Victims'].unique()"
   ]
  },
  {
   "cell_type": "code",
   "execution_count": 66,
   "metadata": {},
   "outputs": [],
   "source": [
    "bins = [0, 10, 20, 30, 40, 50, 60, 70, 80, 90, 100]\n",
    "\n",
    "age_bins = df['Avg Age of Victims'].groupby(pd.cut(df['Avg Age of Victims'], bins))\n",
    "\n",
    "# < 5\n",
    "# 5 - 9\n",
    "# 10 - 14\n",
    "# 15 - 19\n",
    "# 20 - 24\n",
    "# 25 - 29\n",
    "# 30 - 34\n",
    "# 35 - 39\n",
    "# 40 - 44\n",
    "# 45 - 49\n",
    "# 50 - 54\n",
    "# 55 - 59\n",
    "# 60 - 64\n",
    "# 65 - 69\n",
    "# 70 - 74\n",
    "# 75 - 79\n",
    "# 80 - 84\n",
    "# > 85"
   ]
  },
  {
   "cell_type": "code",
   "execution_count": 67,
   "metadata": {},
   "outputs": [
    {
     "data": {
      "text/plain": [
       "Avg Age of Victims\n",
       "(0, 10]       551\n",
       "(10, 20]     4957\n",
       "(20, 30]     9036\n",
       "(30, 40]     5582\n",
       "(40, 50]     2931\n",
       "(50, 60]     1844\n",
       "(60, 70]      813\n",
       "(70, 80]      348\n",
       "(80, 90]      130\n",
       "(90, 100]       9\n",
       "Name: Avg Age of Victims, dtype: int64"
      ]
     },
     "execution_count": 67,
     "metadata": {},
     "output_type": "execute_result"
    }
   ],
   "source": [
    "age_bins.count()"
   ]
  },
  {
   "cell_type": "code",
   "execution_count": 68,
   "metadata": {},
   "outputs": [
    {
     "data": {
      "text/plain": [
       "Avg Age of Victims\n",
       "(0, 10]       5.480944\n",
       "(10, 20]     17.570506\n",
       "(20, 30]     25.155157\n",
       "(30, 40]     35.013078\n",
       "(40, 50]     45.078813\n",
       "(50, 60]     54.990781\n",
       "(60, 70]     65.001230\n",
       "(70, 80]     74.698276\n",
       "(80, 90]     84.338462\n",
       "(90, 100]    93.555556\n",
       "Name: Avg Age of Victims, dtype: float64"
      ]
     },
     "execution_count": 68,
     "metadata": {},
     "output_type": "execute_result"
    }
   ],
   "source": [
    "age_bins.mean()"
   ]
  },
  {
   "cell_type": "code",
   "execution_count": 69,
   "metadata": {},
   "outputs": [
    {
     "data": {
      "text/html": [
       "<div>\n",
       "<style scoped>\n",
       "    .dataframe tbody tr th:only-of-type {\n",
       "        vertical-align: middle;\n",
       "    }\n",
       "\n",
       "    .dataframe tbody tr th {\n",
       "        vertical-align: top;\n",
       "    }\n",
       "\n",
       "    .dataframe thead th {\n",
       "        text-align: right;\n",
       "    }\n",
       "</style>\n",
       "<table border=\"1\" class=\"dataframe\">\n",
       "  <thead>\n",
       "    <tr style=\"text-align: right;\">\n",
       "      <th></th>\n",
       "      <th>Year</th>\n",
       "      <th>Avg Age of Victims</th>\n",
       "      <th>Avg Age of Suspects</th>\n",
       "      <th>Count of Suspects</th>\n",
       "      <th>Count of Victims</th>\n",
       "    </tr>\n",
       "  </thead>\n",
       "  <tbody>\n",
       "    <tr>\n",
       "      <th>0</th>\n",
       "      <td>2014</td>\n",
       "      <td>31.3</td>\n",
       "      <td>30.5</td>\n",
       "      <td>1909</td>\n",
       "      <td>1423</td>\n",
       "    </tr>\n",
       "    <tr>\n",
       "      <th>1</th>\n",
       "      <td>2015</td>\n",
       "      <td>32.5</td>\n",
       "      <td>31.3</td>\n",
       "      <td>8029</td>\n",
       "      <td>3544</td>\n",
       "    </tr>\n",
       "    <tr>\n",
       "      <th>2</th>\n",
       "      <td>2016</td>\n",
       "      <td>31.9</td>\n",
       "      <td>31.1</td>\n",
       "      <td>12796</td>\n",
       "      <td>7349</td>\n",
       "    </tr>\n",
       "    <tr>\n",
       "      <th>3</th>\n",
       "      <td>2017</td>\n",
       "      <td>31.7</td>\n",
       "      <td>31.3</td>\n",
       "      <td>17613</td>\n",
       "      <td>11513</td>\n",
       "    </tr>\n",
       "    <tr>\n",
       "      <th>4</th>\n",
       "      <td>2018</td>\n",
       "      <td>32.4</td>\n",
       "      <td>31.5</td>\n",
       "      <td>4139</td>\n",
       "      <td>2385</td>\n",
       "    </tr>\n",
       "  </tbody>\n",
       "</table>\n",
       "</div>"
      ],
      "text/plain": [
       "   Year  Avg Age of Victims  Avg Age of Suspects  Count of Suspects  \\\n",
       "0  2014                31.3                 30.5               1909   \n",
       "1  2015                32.5                 31.3               8029   \n",
       "2  2016                31.9                 31.1              12796   \n",
       "3  2017                31.7                 31.3              17613   \n",
       "4  2018                32.4                 31.5               4139   \n",
       "\n",
       "   Count of Victims  \n",
       "0              1423  \n",
       "1              3544  \n",
       "2              7349  \n",
       "3             11513  \n",
       "4              2385  "
      ]
     },
     "execution_count": 69,
     "metadata": {},
     "output_type": "execute_result"
    }
   ],
   "source": [
    "data = pd.DataFrame(df.groupby('year').mean()['Avg Age of Victims'])\n",
    "data['Avg Age of Suspects'] = df.groupby('year').mean()['Avg Age of Suspects']\n",
    "data = data.round(1)\n",
    "data['Count of Suspects'] = df.groupby('year').count()['Avg Age of Suspects']\n",
    "data['Count of Victims'] = df.groupby('year').count()['Avg Age of Victims']\n",
    "data.reset_index(inplace = True)\n",
    "#data['Avg Age of Suspects'] = df.groupby('year').mean()['Avg Age of Suspects']\n",
    "data.rename(columns={\"year\": \"Year\"}, inplace = True)\n",
    "data"
   ]
  },
  {
   "cell_type": "code",
   "execution_count": 70,
   "metadata": {
    "scrolled": true
   },
   "outputs": [
    {
     "name": "stderr",
     "output_type": "stream",
     "text": [
      "C:\\Users\\meifl\\Anaconda3\\lib\\site-packages\\bokeh\\plotting\\helpers.py:535: UserWarning: HoverTool are being repeated\n",
      "  warnings.warn(\"%s are being repeated\" % \",\".join(repeated_tools))\n",
      "E-1001 (BAD_COLUMN_NAME): Glyph refers to nonexistent column name: year [renderer: GlyphRenderer(id='1fedacf5-bc78-430c-9acf-f0165c90117d', ...)]\n",
      "E-1001 (BAD_COLUMN_NAME): Glyph refers to nonexistent column name: year [renderer: GlyphRenderer(id='225f3572-5eae-439a-8482-118bceb6e6ae', ...)]\n",
      "E-1001 (BAD_COLUMN_NAME): Glyph refers to nonexistent column name: year [renderer: GlyphRenderer(id='d82a23f5-325c-4760-a64b-bbc87b635118', ...)]\n",
      "E-1001 (BAD_COLUMN_NAME): Glyph refers to nonexistent column name: year [renderer: GlyphRenderer(id='e548771a-f112-4d4c-8748-421a98172096', ...)]\n",
      "E-1001 (BAD_COLUMN_NAME): Glyph refers to nonexistent column name: year [renderer: GlyphRenderer(id='0b862a2e-50fc-4687-b87d-87704d078c8c', ...)]\n",
      "E-1001 (BAD_COLUMN_NAME): Glyph refers to nonexistent column name: year [renderer: GlyphRenderer(id='1b6261b1-8cd4-4150-b544-02cd8cda7d27', ...)]\n",
      "E-1001 (BAD_COLUMN_NAME): Glyph refers to nonexistent column name: year [renderer: GlyphRenderer(id='27f27d15-9be2-4002-b8cf-ee077f2ecf6f', ...)]\n",
      "E-1001 (BAD_COLUMN_NAME): Glyph refers to nonexistent column name: year [renderer: GlyphRenderer(id='b0d58ab0-d071-4a1a-bf5f-a016866091d9', ...)]\n",
      "E-1001 (BAD_COLUMN_NAME): Glyph refers to nonexistent column name: year [renderer: GlyphRenderer(id='02a2763a-c3d4-4164-b5fd-c60794921f47', ...)]\n",
      "E-1001 (BAD_COLUMN_NAME): Glyph refers to nonexistent column name: year [renderer: GlyphRenderer(id='4416d87c-86ec-4b73-ac74-6f00c022f822', ...)]\n",
      "E-1001 (BAD_COLUMN_NAME): Glyph refers to nonexistent column name: year [renderer: GlyphRenderer(id='71ced9a1-4921-403b-9886-3c80c1200eea', ...)]\n",
      "E-1001 (BAD_COLUMN_NAME): Glyph refers to nonexistent column name: year [renderer: GlyphRenderer(id='ac98ba8e-ed89-4690-9b98-ef873e61ca5d', ...)]\n"
     ]
    }
   ],
   "source": [
    "from bokeh.plotting import figure, output_file, show\n",
    "from bokeh.models import ColumnDataSource, HoverTool\n",
    "from bokeh.models.widgets import DataTable, TableColumn\n",
    "from bokeh.layouts import layout\n",
    "\n",
    "# output to static HTML file\n",
    "output_file('ageLineCharts.html')\n",
    "\n",
    "hover1 = HoverTool(tooltips=[\n",
    "    (\"Year\", \"@Year\"),\n",
    "    (\"Avg Age of Victims\", \"@{Avg Age of Victims}{0.f}\")\n",
    "   # (\"Avg Age of Suspects\", \"@{Avg Age of Suspects}{0.f}\"),\n",
    "], mode = 'vline', names = ['hover1'])\n",
    "\n",
    "hover2 = HoverTool(tooltips=[\n",
    "    (\"Year\", \"@Year\"),\n",
    "   # (\"Avg Age of Victims\", \"@{Avg Age of Victims}{0.f}\")\n",
    "    (\"Avg Age of Suspects\", \"@{Avg Age of Suspects}{0.f}\"),\n",
    "], mode = 'vline', names = ['hover2'])\n",
    "\n",
    "# create a new plot with a title and axis labels\n",
    "# x_range=[0,10], y_range=(10, 20)\n",
    "TOOLS = \"crosshair,pan,wheel_zoom,box_zoom,reset,lasso_select\"\n",
    "p = figure(title = '2014 - 2018 Age Analysis by Year', x_axis_label='Year', y_axis_label='Average Age', plot_width=600, plot_height=600, tools = [TOOLS, hover1, hover2])\n",
    "p.background_fill_color = \"beige\"\n",
    "p.background_fill_alpha = 0.5\n",
    "p.outline_line_width = 7\n",
    "p.outline_line_alpha = 0.3\n",
    "p.outline_line_color = \"navy\"\n",
    "\n",
    "# add a line renderer with legend and line thickness\n",
    "p.circle('Year', 'Avg Age of Victims', legend = 'Age of Victims', source = ColumnDataSource(data), line_color = 'red', size = 10, fill_color='red')\n",
    "p.circle('Year', 'Avg Age of Suspects', legend = 'Age of Suspects', source = ColumnDataSource(data), line_color = 'blue', size = 10)\n",
    "p.line('Year', 'Avg Age of Victims', legend = 'Age of Victims', line_width=2, source = ColumnDataSource(data), line_color = 'red', name = 'hover1')\n",
    "p.line('Year', 'Avg Age of Suspects', legend = 'Age of Suspects', line_width=2, source = ColumnDataSource(data), line_color = 'blue', name = 'hover2')\n",
    "\n",
    "p.legend.location = \"bottom_center\"\n",
    "p.legend.click_policy=\"hide\"\n",
    "\n",
    "\n",
    "source = ColumnDataSource(data)\n",
    "\n",
    "columns = [\n",
    "        TableColumn(field=\"Year\", title=\"Year\"),\n",
    "        TableColumn(field=\"Avg Age of Victims\", title=\"Avg Age of Victims\"),\n",
    "        TableColumn(field=\"Count of Victims\", title=\"Count of Victims\"),\n",
    "        TableColumn(field=\"Avg Age of Suspects\", title=\"Avg Age of Suspects\"),\n",
    "        TableColumn(field=\"Count of Suspects\", title=\"Count of Suspects\")\n",
    "    ]\n",
    "p_data = DataTable(source=source, columns=columns, width=600, height=600, selectable = True)\n",
    "\n",
    "# show the results\n",
    "show(layout([p, p_data]))"
   ]
  }
 ],
 "metadata": {
  "kernelspec": {
   "display_name": "Python 3",
   "language": "python",
   "name": "python3"
  },
  "language_info": {
   "codemirror_mode": {
    "name": "ipython",
    "version": 3
   },
   "file_extension": ".py",
   "mimetype": "text/x-python",
   "name": "python",
   "nbconvert_exporter": "python",
   "pygments_lexer": "ipython3",
   "version": "3.6.4"
  }
 },
 "nbformat": 4,
 "nbformat_minor": 2
}
