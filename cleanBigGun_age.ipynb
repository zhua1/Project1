{
 "cells": [
  {
   "cell_type": "code",
   "execution_count": 1,
   "metadata": {},
   "outputs": [],
   "source": [
    "import pandas as pd\n",
    "import numpy as np\n",
    "import requests\n",
    "import gzip\n",
    "import re"
   ]
  },
  {
   "cell_type": "code",
   "execution_count": 2,
   "metadata": {},
   "outputs": [
    {
     "name": "stderr",
     "output_type": "stream",
     "text": [
      "C:\\Users\\zhua1\\AppData\\Local\\Continuum\\anaconda3\\lib\\site-packages\\ipykernel_launcher.py:67: SettingWithCopyWarning: \n",
      "A value is trying to be set on a copy of a slice from a DataFrame.\n",
      "Try using .loc[row_indexer,col_indexer] = value instead\n",
      "\n",
      "See the caveats in the documentation: http://pandas.pydata.org/pandas-docs/stable/indexing.html#indexing-view-versus-copy\n"
     ]
    }
   ],
   "source": [
    "file = pd.read_csv(gzip.open('data/gun_violence_massshooting_2014-2018.csv.gz'))                       # 239677 Rows, 30 Columns\n",
    "file1 = file[['incident_id', 'date', 'state', 'city_or_county', 'address', 'n_killed',                 # 239677 Rows, 11 Columns\n",
    "              'n_injured', 'sum n_killed&n_injured', 'latitude', 'longitude', 'n_guns_involved']]\n",
    "file2 = file[['incident_id', 'gun_type', 'incident_characteristics', 'participant_age',                # 239677 Rows, 9 Columns\n",
    "              'participant_age_group', 'participant_gender','participant_name', 'participant_status',\n",
    "              'participant_type']]\n",
    "states = {\n",
    "        'AK': 'Alaska',\n",
    "        'AL': 'Alabama',\n",
    "        'AR': 'Arkansas',\n",
    "        'AS': 'American Samoa',\n",
    "        'AZ': 'Arizona',\n",
    "        'CA': 'California',\n",
    "        'CO': 'Colorado',\n",
    "        'CT': 'Connecticut',\n",
    "        'DC': 'District of Columbia',\n",
    "        'DE': 'Delaware',\n",
    "        'FL': 'Florida',\n",
    "        'GA': 'Georgia',\n",
    "        'GU': 'Guam',\n",
    "        'HI': 'Hawaii',\n",
    "        'IA': 'Iowa',\n",
    "        'ID': 'Idaho',\n",
    "        'IL': 'Illinois',\n",
    "        'IN': 'Indiana',\n",
    "        'KS': 'Kansas',\n",
    "        'KY': 'Kentucky',\n",
    "        'LA': 'Louisiana',\n",
    "        'MA': 'Massachusetts',\n",
    "        'MD': 'Maryland',\n",
    "        'ME': 'Maine',\n",
    "        'MI': 'Michigan',\n",
    "        'MN': 'Minnesota',\n",
    "        'MO': 'Missouri',\n",
    "        'MP': 'Northern Mariana Islands',\n",
    "        'MS': 'Mississippi',\n",
    "        'MT': 'Montana',\n",
    "        'NA': 'National',\n",
    "        'NC': 'North Carolina',\n",
    "        'ND': 'North Dakota',\n",
    "        'NE': 'Nebraska',\n",
    "        'NH': 'New Hampshire',\n",
    "        'NJ': 'New Jersey',\n",
    "        'NM': 'New Mexico',\n",
    "        'NV': 'Nevada',\n",
    "        'NY': 'New York',\n",
    "        'OH': 'Ohio',\n",
    "        'OK': 'Oklahoma',\n",
    "        'OR': 'Oregon',\n",
    "        'PA': 'Pennsylvania',\n",
    "        'PR': 'Puerto Rico',\n",
    "        'RI': 'Rhode Island',\n",
    "        'SC': 'South Carolina',\n",
    "        'SD': 'South Dakota',\n",
    "        'TN': 'Tennessee',\n",
    "        'TX': 'Texas',\n",
    "        'UT': 'Utah',\n",
    "        'VA': 'Virginia',\n",
    "        'VI': 'Virgin Islands',\n",
    "        'VT': 'Vermont',\n",
    "        'WA': 'Washington',\n",
    "        'WI': 'Wisconsin',\n",
    "        'WV': 'West Virginia',\n",
    "        'WY': 'Wyoming'\n",
    "}\n",
    "states_dict = {value: key for key, value in states.items()}\n",
    "file1['STATE'] = file1['state'].replace(states_dict)"
   ]
  },
  {
   "cell_type": "code",
   "execution_count": 3,
   "metadata": {},
   "outputs": [],
   "source": [
    "# Do a dropna on file2, entire file is too big for analysis\n",
    "file2 = file2.dropna(axis = 0).reset_index(drop = True)\n",
    "def countVictims(dt):\n",
    "     return dt.count('Victim')\n",
    "def countSuspects(dt):\n",
    "     return dt.count('Subject-Suspect')\n",
    "file2['# of Victims'] = file2['participant_type'].apply(countVictims)\n",
    "file2['# of Suspects'] = file2['participant_type'].apply(countSuspects)"
   ]
  },
  {
   "cell_type": "code",
   "execution_count": 4,
   "metadata": {},
   "outputs": [],
   "source": [
    "def getAge(typ, gen, phrase):\n",
    "    age = []\n",
    "    part_type = re.sub('\\d::', '', typ).split('||')\n",
    "    part_gender = re.sub('\\d::', '', gen).split('||')\n",
    "    if phrase in part_type:\n",
    "        if (len(part_type) != len(part_gender)):\n",
    "            age.append(np.nan)\n",
    "        else:\n",
    "            idx = [i for i, x in enumerate(part_type) if x == phrase]\n",
    "            age.append(int(np.mean(list(map(int, list(np.array(part_gender)[idx]))))))\n",
    "    else:\n",
    "        age.append(np.nan)\n",
    "    return age"
   ]
  },
  {
   "cell_type": "code",
   "execution_count": 5,
   "metadata": {},
   "outputs": [],
   "source": [
    "file2['Avg Age of Victims'] = file2.apply(lambda x: getAge(x['participant_type'], x['participant_age'], 'Victim')[0], axis=1)\n",
    "file2['Avg Age of Suspects'] = file2.apply(lambda x: getAge(x['participant_type'], x['participant_age'], 'Subject-Suspect')[0], axis=1)"
   ]
  },
  {
   "cell_type": "code",
   "execution_count": 6,
   "metadata": {},
   "outputs": [],
   "source": [
    "# Inner merge with file1\n",
    "final = file1.merge(file2, how = 'inner', on = 'incident_id')\n",
    "# Convert date column from Obejct to Date\n",
    "final['date'] =  pd.to_datetime(final['date'], format='%m/%d/%Y')\n",
    "final['year'] = pd.DatetimeIndex(final['date']).year\n",
    "# Delete year 2013\n",
    "final_df = final[final['year'] != 2013]\n",
    "#################################################### 69265 Rows, 25 Columns #####################################################\n",
    "final_df.to_csv('C:/Users/zhua1/Desktop/cleanedBigGun_age.csv', index = False)"
   ]
  }
 ],
 "metadata": {
  "kernelspec": {
   "display_name": "Python 3",
   "language": "python",
   "name": "python3"
  },
  "language_info": {
   "codemirror_mode": {
    "name": "ipython",
    "version": 3
   },
   "file_extension": ".py",
   "mimetype": "text/x-python",
   "name": "python",
   "nbconvert_exporter": "python",
   "pygments_lexer": "ipython3",
   "version": "3.6.4"
  }
 },
 "nbformat": 4,
 "nbformat_minor": 2
}
